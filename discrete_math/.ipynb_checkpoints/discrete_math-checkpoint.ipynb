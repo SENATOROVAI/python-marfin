{
 "cells": [
  {
   "cell_type": "code",
   "execution_count": 2,
   "id": "0187fb7f",
   "metadata": {},
   "outputs": [],
   "source": [
    "#![](./31.01_3.jpg)"
   ]
  },
  {
   "cell_type": "markdown",
   "id": "ddbf3081",
   "metadata": {},
   "source": [
    "![](./27.01_1.jpg)\n",
    "![](./27.01_2.jpg)\n",
    "![](./27.01_3.jpg)\n",
    "![](./27.01_4.jpg)\n",
    "![](./31.01_1.jpg)\n",
    "![](./31.01_2.jpg)\n",
    "![](./31.01_3.jpg)"
   ]
  },
  {
   "cell_type": "code",
   "execution_count": null,
   "id": "250e2f36",
   "metadata": {},
   "outputs": [],
   "source": []
  }
 ],
 "metadata": {
  "kernelspec": {
   "display_name": "Python 3 (ipykernel)",
   "language": "python",
   "name": "python3"
  },
  "language_info": {
   "codemirror_mode": {
    "name": "ipython",
    "version": 3
   },
   "file_extension": ".py",
   "mimetype": "text/x-python",
   "name": "python",
   "nbconvert_exporter": "python",
   "pygments_lexer": "ipython3",
   "version": "3.9.0"
  }
 },
 "nbformat": 4,
 "nbformat_minor": 5
}

{
 "cells": [
  {
   "attachments": {},
   "cell_type": "markdown",
   "metadata": {},
   "source": [
    "## HELLO WORLD"
   ]
  },
  {
   "cell_type": "code",
   "execution_count": null,
   "metadata": {},
   "outputs": [],
   "source": [
    "# https://projecteuler.net/problem=1\n",
    "sum = 0\n",
    "for i in range(1, 1000):\n",
    "    if i % 3 == 0 or i % 5 == 0:\n",
    "        sum += i\n",
    "print(sum)"
   ]
  },
  {
   "attachments": {},
   "cell_type": "markdown",
   "metadata": {},
   "source": [
    "Fork: Копирование репозитория в личный аккаунт \n",
    "Если вносим в fork изменения можем делать pull request\n",
    "pull request: предложение изменения кода в форкнутом репозитории, запрос на интеграцию\n",
    "commit: сохранение внесенных изменений\n",
    "fetch origin == git pull: принять изменения, обновления\n",
    "Утро начинается с команды git pull, день заканчивается с команды git push\n"
   ]
  },
  {
   "cell_type": "code",
   "execution_count": null,
   "metadata": {},
   "outputs": [],
   "source": [
    "https://codeforces.com/problemset/problem/4/A"
   ]
  },
  {
   "cell_type": "code",
   "execution_count": null,
   "metadata": {},
   "outputs": [],
   "source": [
    "#codeforces: алгоритмы структуры данных\n",
    "#project euler: базовая проработка математики\n",
    "#leetcode: задачи по алгоритмам с собеседования"
   ]
  },
  {
   "cell_type": "code",
   "execution_count": null,
   "metadata": {},
   "outputs": [],
   "source": [
    "w = int(input())\n",
    "if w % 2 == 0 and w > 2:\n",
    "    print(\"YES\")\n",
    "else:\n",
    "    print(\"NO\")"
   ]
  }
 ],
 "metadata": {
  "kernelspec": {
   "display_name": "Python 3",
   "language": "python",
   "name": "python3"
  },
  "language_info": {
   "codemirror_mode": {
    "name": "ipython",
    "version": 3
   },
   "file_extension": ".py",
   "mimetype": "text/x-python",
   "name": "python",
   "nbconvert_exporter": "python",
   "pygments_lexer": "ipython3",
   "version": "3.11.2"
  },
  "orig_nbformat": 4
 },
 "nbformat": 4,
 "nbformat_minor": 2
}

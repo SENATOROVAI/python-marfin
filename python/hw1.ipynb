{
 "cells": [
  {
   "attachments": {},
   "cell_type": "markdown",
   "metadata": {},
   "source": [
    "поехали!"
   ]
  },
  {
   "cell_type": "code",
   "execution_count": null,
   "metadata": {},
   "outputs": [],
   "source": [
    "# Написать программу, которая выводит на экран все четные числа в диапазоне от 0 до заданного пользователем числа.\n",
    "num = int(input())\n",
    "for i in range(0, num + 1, 2):\n",
    "    print(i, end=' ')"
   ]
  },
  {
   "cell_type": "code",
   "execution_count": null,
   "metadata": {},
   "outputs": [],
   "source": [
    "# Написать программу калькулятор, которая позволяет пользователю выполнять арифметические операции (+, -, *, /) над двумя заданными числами.\n",
    "num1 = int(input('Введите число: '))\n",
    "num2 = int(input('Введите число: '))\n",
    "operator = input('Введите оператор: ')\n",
    "if operator == \"+\":\n",
    "    print(num1 + num2)\n",
    "elif operator == \"-\":\n",
    "    print(num1 - num2)\n",
    "elif operator == \"*\":\n",
    "    print(num1 * num2)\n",
    "elif operator == \"/\":\n",
    "    print(num1 / num2)"
   ]
  },
  {
   "cell_type": "code",
   "execution_count": null,
   "metadata": {},
   "outputs": [],
   "source": [
    "# Написать программу, которая находит максимальное число из трех заданных пользователем чисел.\n",
    "num1 = int(input('Введите число: '))\n",
    "num2 = int(input('Введите число: '))\n",
    "num3 = int(input('Введите число: '))\n",
    "print(max(num1, num2, num3))"
   ]
  },
  {
   "cell_type": "code",
   "execution_count": null,
   "metadata": {},
   "outputs": [],
   "source": [
    "# Написать программу, которая проверяет, есть ли заданное пользователем число в заданном списке.\n",
    "num = int(input('Введите число: '))\n",
    "spisok = [1, 2, 3, 4, 5, 8, 10]\n",
    "if num in spisok:\n",
    "    print(num)\n",
    "else:\n",
    "    print('Ошибка')\n",
    "\n"
   ]
  },
  {
   "cell_type": "code",
   "execution_count": null,
   "metadata": {},
   "outputs": [],
   "source": [
    "# Написать программу, которая конвертирует температуру в градусах Цельсия в температуру в градусах Фаренгейта.\n",
    "num = float(input('Введите температуру в градусах цельсия: '))\n",
    "f = 1.8 * num + 32\n",
    "print(\"Температура в градусах Фаренгейта:\", f)\n"
   ]
  },
  {
   "cell_type": "code",
   "execution_count": null,
   "metadata": {},
   "outputs": [],
   "source": [
    "# Написать программу, которая принимает строку от пользователя и выводит на экран каждый символ строки в отдельной строке.\n",
    "text = input('Введите текст: ')\n",
    "for c in text:\n",
    "    print(c)"
   ]
  },
  {
   "cell_type": "code",
   "execution_count": null,
   "metadata": {},
   "outputs": [],
   "source": [
    "# Написать программу, которая считывает содержимое текстового файла и выводит его на экран.\n",
    "file = open(\"abc.txt\")\n",
    "text = file.read()\n",
    "print(text)\n"
   ]
  }
 ],
 "metadata": {
  "language_info": {
   "name": "python"
  },
  "orig_nbformat": 4
 },
 "nbformat": 4,
 "nbformat_minor": 2
}

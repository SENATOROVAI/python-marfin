{
 "cells": [
  {
   "cell_type": "code",
   "execution_count": null,
   "metadata": {},
   "outputs": [],
   "source": [
    "# https://projecteuler.net/problem=2\n",
    "f1, f2, s = 0, 1, 0\n",
    "while f2 <= 4000000:\n",
    "    if f2 % 2 == 0:\n",
    "        s = s + f2\n",
    "    f1, f2 = f2, f1 + f2\n",
    "print(s)"
   ]
  },
  {
   "cell_type": "code",
   "execution_count": null,
   "metadata": {},
   "outputs": [],
   "source": [
    "# https://projecteuler.net/problem=6\n",
    "sum = 0\n",
    "sum_2 = 0\n",
    "for i in range(1, 101):\n",
    "    sum += i ** 2\n",
    "    sum_2 += i\n",
    "print((sum_2**2) - sum)"
   ]
  },
  {
   "cell_type": "code",
   "execution_count": null,
   "metadata": {},
   "outputs": [],
   "source": [
    "# https://projecteuler.net/problem=5\n",
    "total = 1\n",
    "while True:\n",
    "    if total % 7 == 0 and total % 8 == 0 and total % 11 == 0 and total % 12 == 0 and total % 13 == 0\\\n",
    "        and total % 14 == 0 and total % 15 == 0 and total % 16 == 0 and total % 17 == 0 and total % 18 == 0\\\n",
    "            and total % 19 == 0 and total % 20 == 0:\n",
    "        print(total)\n",
    "        break\n",
    "    else:\n",
    "        total += 1"
   ]
  }
 ],
 "metadata": {
  "language_info": {
   "name": "python"
  },
  "orig_nbformat": 4
 },
 "nbformat": 4,
 "nbformat_minor": 2
}

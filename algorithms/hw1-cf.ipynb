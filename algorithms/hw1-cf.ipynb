{
 "cells": [
  {
   "cell_type": "code",
   "execution_count": null,
   "metadata": {},
   "outputs": [],
   "source": [
    "#  https://codeforces.com/problemset/problem/71/A\n",
    "\n",
    "num = int(input())\n",
    "for i in range(num):\n",
    "    word = input()\n",
    "    if len(word) > 10:\n",
    "        print(word[0] + str(len(word) - 2) + word[-1])\n",
    "    else:\n",
    "        print(word)"
   ]
  }
 ],
 "metadata": {
  "language_info": {
   "name": "python"
  },
  "orig_nbformat": 4
 },
 "nbformat": 4,
 "nbformat_minor": 2
}
